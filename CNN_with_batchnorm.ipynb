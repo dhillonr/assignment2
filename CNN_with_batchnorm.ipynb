{
 "cells": [
  {
   "cell_type": "code",
   "execution_count": 1,
   "metadata": {
    "collapsed": true
   },
   "outputs": [],
   "source": [
    "import numpy as np\n",
    "import nonlin as nol                      # import non-linearity functn.\n",
    "import convolut as con                    # import batch_norm ,convol,pool both fwd and bcwd\n",
    "\n",
    "from sklearn.datasets import fetch_mldata #import data\n",
    "mnist = fetch_mldata('MNIST original')\n",
    "\n",
    "A_prev = mnist.data                       #Input\n",
    "Y = mnist.target                          #labels\n",
    "A_prev = A_prev[69000:70000,:]\n",
    "Y = np.array(Y)\n",
    "Y = Y[69000:70000]\n",
    "Y = Y.reshape(1000,1)\n",
    "Y = Y.astype(int)\n",
    "Y = nol.convert_to_one_hot(Y,10)          #convert to one hot"
   ]
  },
  {
   "cell_type": "code",
   "execution_count": 2,
   "metadata": {
    "collapsed": true
   },
   "outputs": [],
   "source": [
    "def reshape (A_prev):                     #reshape input to (m,n_H,n_W,n_C)\n",
    "    X_layer = list()\n",
    "    for m in (A_prev):\n",
    "        X_layer.append(m.reshape(28,28))\n",
    "    X_layer = np.array(X_layer)\n",
    "    X_layer.shape  \n",
    "    X_layer = X_layer.reshape(X_layer.shape[0],X_layer.shape[1],X_layer.shape[2],1)\n",
    "    X_layer.shape\n",
    "    return X_layer"
   ]
  },
  {
   "cell_type": "code",
   "execution_count": 3,
   "metadata": {
    "collapsed": true
   },
   "outputs": [],
   "source": [
    "A_prev = reshape(A_prev) /float(1000)                \n",
    "(m,n_H,n_W,n_C_prev)=A_prev.shape\n",
    "f = 3                                    # no. of filters\n",
    "n_C_prev = 1                             #grey scale image"
   ]
  },
  {
   "cell_type": "code",
   "execution_count": 4,
   "metadata": {
    "collapsed": true
   },
   "outputs": [],
   "source": [
    "W = np.random.randn(f,f,n_C_prev,10)*0.01   #initialise filters"
   ]
  },
  {
   "cell_type": "code",
   "execution_count": 5,
   "metadata": {
    "collapsed": true
   },
   "outputs": [],
   "source": [
    "b = np.random.randn(1,1,1,10)*0.01       #initialise biase"
   ]
  },
  {
   "cell_type": "code",
   "execution_count": 6,
   "metadata": {
    "collapsed": true
   },
   "outputs": [],
   "source": [
    "hparameters_conv = {\"pad\" : 0,          #initialise hparameters for convolution\n",
    "               \"stride\": 3}"
   ]
  },
  {
   "cell_type": "code",
   "execution_count": 7,
   "metadata": {
    "collapsed": true
   },
   "outputs": [],
   "source": [
    "hparameters_pool = {\"f\" : 3,            #initialise hparameters for pooling\n",
    "                    \"stride\" : 1}"
   ]
  },
  {
   "cell_type": "code",
   "execution_count": 8,
   "metadata": {
    "collapsed": true
   },
   "outputs": [],
   "source": [
    "W_fc = np.random.randn(10,490)*0.01     #initialise weights for FC layer\n",
    "b_fc = np.random.rand(1000,10)*0.01     #initialise bias for biase\n",
    "gamma = np.random.randn(10)*0.01\n",
    "beta  = np.random.randn(10)*0.01\n",
    "eps = 0.0000001\n",
    "\n"
   ]
  },
  {
   "cell_type": "code",
   "execution_count": 9,
   "metadata": {
    "collapsed": true
   },
   "outputs": [],
   "source": [
    "lr = 0.001                              #learning rate \n",
    "iterations = 20                          #No. of iterations\n",
    "cost = np.zeros(iterations)             #Initialise Cost "
   ]
  },
  {
   "cell_type": "code",
   "execution_count": 10,
   "metadata": {
    "scrolled": false
   },
   "outputs": [
    {
     "name": "stdout",
     "output_type": "stream",
     "text": [
      "9.20835468325\n",
      "8.36722668736\n",
      "7.7032804434\n",
      "7.27755040165\n",
      "7.06028521487\n",
      "6.96671869889\n",
      "6.92993878748\n",
      "6.9160477411\n",
      "6.91088237666\n",
      "6.90897435544\n",
      "6.90827059009\n",
      "6.90801134639\n",
      "6.90791485019\n",
      "6.90787993107\n",
      "6.90786689493\n",
      "6.90786212316\n",
      "6.9078594987\n",
      "6.90785897941\n",
      "6.90785864893\n",
      "6.90785854526\n"
     ]
    }
   ],
   "source": [
    "for i in range(iterations):                                          #loop over iterations\n",
    "    A, cache_conv = con.conv_forward(A_prev, W, b, hparameters_conv) #compute convolution  \n",
    "    A1 ,cache_pool = con.pool_forward(A,hparameters_pool,mode = \"max\") #compute pooling\n",
    "    A2 = nol.flatten_a_data(A1)                                      #convert to fc layer\n",
    "    Z_fc = A2.dot(W_fc.T) +b_fc\n",
    "    A3,cache_batchnorm_forward = nol.batchnorm_forward(Z_fc,gamma,beta,eps) #batch norm fwd\n",
    "    A4 = nol.softmax(A3)                                            #softmax \n",
    "    cost[i] = nol.loss(A4,Y)                                        #compute cost\n",
    "    print(cost[i])\n",
    "    dA3 = A4-Y                                                      #backprop steps\n",
    "    dZ_fc, dgamma, dbeta = nol.batchnorm_backward(dA3 ,cache_batchnorm_forward)  #batchnorm bcwd                      #\n",
    "    dW_fc = dZ_fc.T.dot(A2)\n",
    "    db_fc = dZ_fc                                                   \n",
    "    dA2 = np.dot(dZ_fc,W_fc)\n",
    "    \n",
    "    dA = con.pool_backward(A1 , cache_pool,mode = \"max\" )           #backpool\n",
    "    dA_prev , dW , db = con.conv_backward(dA,cache_conv)            #back convolution\n",
    "    \n",
    "    gamma = gamma - dgamma*lr                                       #updating parameters\n",
    "    beta = beta - dbeta*lr\n",
    "    W_fc = W_fc - dW_fc*lr\n",
    "    b_fc = b_fc - db_fc*lr\n",
    "    A2 = A2 - dA2*lr\n",
    "\n",
    "    A1 = np.reshape(A2,(1000,7,7,10))\n",
    "    \n",
    "    A = A - dA*lr\n",
    "    W = W - dW*lr\n",
    "    b = b - db*lr"
   ]
  },
  {
   "cell_type": "code",
   "execution_count": 11,
   "metadata": {},
   "outputs": [
    {
     "data": {
      "image/png": "[encoded data removed]",
      "text/plain": [
       "<matplotlib.figure.Figure at 0x7fde1385be10>"
      ]
     },
     "metadata": {},
     "output_type": "display_data"
    }
   ],
   "source": [
    "import matplotlib.pyplot as plt                         # plot Cost vs no. of iterarions\n",
    "plt.plot(np.arange(len(cost)),cost)\n",
    "plt.xlabel(\"No. of iterations\")\n",
    "plt.ylabel(\"Cost\")\n",
    "plt.show()"
   ]
  },
  {
   "cell_type": "code",
   "execution_count": 21,
   "metadata": {},
   "outputs": [
    {
     "name": "stdout",
     "output_type": "stream",
     "text": [
      "100.0\n"
     ]
    }
   ],
   "source": [
    "#calculation of accuracy\n",
    "p = np.zeros((A4.shape))\n",
    "count = 0\n",
    "for i in range (1000):\n",
    "    j = np.unravel_index(A4[i].argmax(), A4[i].shape)\n",
    "    if Y[i][j] == 1. :\n",
    "        count = count + 1\n",
    "accuracy = count / float(1000)\n",
    "print (accuracy*100)"
   ]
  },
  {
   "cell_type": "code",
   "execution_count": null,
   "metadata": {
    "collapsed": true
   },
   "outputs": [],
   "source": []
  }
 ],
 "metadata": {
  "kernelspec": {
   "display_name": "Python 3",
   "language": "python",
   "name": "python3"
  },
  "language_info": {
   "codemirror_mode": {
    "name": "ipython",
    "version": 3
   },
   "file_extension": ".py",
   "mimetype": "text/x-python",
   "name": "python",
   "nbconvert_exporter": "python",
   "pygments_lexer": "ipython3",
   "version": "3.6.3"
  }
 },
 "nbformat": 4,
 "nbformat_minor": 2
}
